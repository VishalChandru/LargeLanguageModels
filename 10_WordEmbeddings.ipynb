{
 "cells": [
  {
   "cell_type": "code",
   "execution_count": 31,
   "metadata": {},
   "outputs": [],
   "source": [
    "from tensorflow.keras.preprocessing.text import one_hot"
   ]
  },
  {
   "cell_type": "code",
   "execution_count": 32,
   "metadata": {},
   "outputs": [
    {
     "data": {
      "text/plain": [
       "['the glass of milk',\n",
       " 'the glass of juice',\n",
       " 'the cup of tea',\n",
       " 'I am a good boy',\n",
       " 'I am a good developer',\n",
       " 'understand the meaning of words',\n",
       " 'your videos are good']"
      ]
     },
     "execution_count": 32,
     "metadata": {},
     "output_type": "execute_result"
    }
   ],
   "source": [
    "sent=['the glass of milk',\n",
    "    'the glass of juice',\n",
    "    'the cup of tea',\n",
    "    'I am a good boy',\n",
    "    'I am a good developer',\n",
    "    'understand the meaning of words', \n",
    "    'your videos are good',]\n",
    "sent"
   ]
  },
  {
   "cell_type": "code",
   "execution_count": 33,
   "metadata": {},
   "outputs": [],
   "source": [
    "voc_size = 10000"
   ]
  },
  {
   "cell_type": "markdown",
   "metadata": {},
   "source": [
    "#### One Hot Representation"
   ]
  },
  {
   "cell_type": "code",
   "execution_count": 34,
   "metadata": {},
   "outputs": [
    {
     "data": {
      "text/plain": [
       "[[7423, 9890, 5885, 692],\n",
       " [7423, 9890, 5885, 6933],\n",
       " [7423, 6880, 5885, 8399],\n",
       " [4322, 9618, 870, 639, 1994],\n",
       " [4322, 9618, 870, 639, 2094],\n",
       " [8195, 7423, 6897, 5885, 9797],\n",
       " [7364, 2917, 7858, 639]]"
      ]
     },
     "execution_count": 34,
     "metadata": {},
     "output_type": "execute_result"
    }
   ],
   "source": [
    "one_hot_repre = [one_hot(words,voc_size) for words in sent]\n",
    "one_hot_repre "
   ]
  },
  {
   "cell_type": "markdown",
   "metadata": {},
   "source": [
    "#### Word Embedding Representation"
   ]
  },
  {
   "cell_type": "code",
   "execution_count": 35,
   "metadata": {},
   "outputs": [],
   "source": [
    "from tensorflow.keras.layers import Embedding\n",
    "from tensorflow.keras.preprocessing.sequence import pad_sequences\n",
    "from tensorflow.keras.models import Sequential"
   ]
  },
  {
   "cell_type": "code",
   "execution_count": 36,
   "metadata": {},
   "outputs": [],
   "source": [
    "import numpy as np"
   ]
  },
  {
   "cell_type": "code",
   "execution_count": 37,
   "metadata": {},
   "outputs": [
    {
     "data": {
      "text/plain": [
       "array([[   0,    0,    0,    0, 7423, 9890, 5885,  692],\n",
       "       [   0,    0,    0,    0, 7423, 9890, 5885, 6933],\n",
       "       [   0,    0,    0,    0, 7423, 6880, 5885, 8399],\n",
       "       [   0,    0,    0, 4322, 9618,  870,  639, 1994],\n",
       "       [   0,    0,    0, 4322, 9618,  870,  639, 2094],\n",
       "       [   0,    0,    0, 8195, 7423, 6897, 5885, 9797],\n",
       "       [   0,    0,    0,    0, 7364, 2917, 7858,  639]], dtype=int32)"
      ]
     },
     "execution_count": 37,
     "metadata": {},
     "output_type": "execute_result"
    }
   ],
   "source": [
    "sent_length = 8\n",
    "embedded_docs = pad_sequences(one_hot_repre,padding=\"pre\",maxlen=sent_length)\n",
    "embedded_docs"
   ]
  },
  {
   "cell_type": "code",
   "execution_count": 44,
   "metadata": {},
   "outputs": [
    {
     "data": {
      "text/plain": [
       "(7, 8)"
      ]
     },
     "execution_count": 44,
     "metadata": {},
     "output_type": "execute_result"
    }
   ],
   "source": [
    "embedded_docs.shape"
   ]
  },
  {
   "cell_type": "code",
   "execution_count": 38,
   "metadata": {},
   "outputs": [],
   "source": [
    "dim = 10"
   ]
  },
  {
   "cell_type": "code",
   "execution_count": 39,
   "metadata": {},
   "outputs": [],
   "source": [
    "model = Sequential()\n",
    "model.add(Embedding(voc_size,dim,input_length=sent_length))\n",
    "model.compile('adam','mse')"
   ]
  },
  {
   "cell_type": "code",
   "execution_count": 40,
   "metadata": {},
   "outputs": [
    {
     "name": "stdout",
     "output_type": "stream",
     "text": [
      "Model: \"sequential_3\"\n",
      "_________________________________________________________________\n",
      "Layer (type)                 Output Shape              Param #   \n",
      "=================================================================\n",
      "embedding_3 (Embedding)      (None, 8, 10)             100000    \n",
      "=================================================================\n",
      "Total params: 100,000\n",
      "Trainable params: 100,000\n",
      "Non-trainable params: 0\n",
      "_________________________________________________________________\n"
     ]
    }
   ],
   "source": [
    "model.summary()"
   ]
  },
  {
   "cell_type": "code",
   "execution_count": 41,
   "metadata": {},
   "outputs": [
    {
     "data": {
      "text/plain": [
       "array([   0,    0,    0,    0, 7423, 9890, 5885,  692], dtype=int32)"
      ]
     },
     "execution_count": 41,
     "metadata": {},
     "output_type": "execute_result"
    }
   ],
   "source": [
    "embedded_docs[0]"
   ]
  },
  {
   "cell_type": "code",
   "execution_count": 42,
   "metadata": {},
   "outputs": [
    {
     "name": "stderr",
     "output_type": "stream",
     "text": [
      "2023-12-22 01:33:55.790169: I tensorflow/core/grappler/optimizers/custom_graph_optimizer_registry.cc:112] Plugin optimizer for device_type GPU is enabled.\n"
     ]
    },
    {
     "data": {
      "text/plain": [
       "array([[ 0.0165095 ,  0.04990328,  0.00157934, -0.04056182, -0.0119241 ,\n",
       "        -0.0078639 ,  0.01899024, -0.00205231, -0.0440761 , -0.04268888],\n",
       "       [ 0.0165095 ,  0.04990328,  0.00157934, -0.04056182, -0.0119241 ,\n",
       "        -0.0078639 ,  0.01899024, -0.00205231, -0.0440761 , -0.04268888],\n",
       "       [ 0.0165095 ,  0.04990328,  0.00157934, -0.04056182, -0.0119241 ,\n",
       "        -0.0078639 ,  0.01899024, -0.00205231, -0.0440761 , -0.04268888],\n",
       "       [ 0.0165095 ,  0.04990328,  0.00157934, -0.04056182, -0.0119241 ,\n",
       "        -0.0078639 ,  0.01899024, -0.00205231, -0.0440761 , -0.04268888],\n",
       "       [ 0.01144468,  0.04500861, -0.01309341,  0.04445628, -0.01660788,\n",
       "        -0.01517491, -0.03774726, -0.01410175, -0.03484107,  0.00898546],\n",
       "       [ 0.00279276,  0.0178006 ,  0.04898221, -0.02191588, -0.03724471,\n",
       "        -0.0006809 , -0.04326351,  0.03388273, -0.03244851,  0.01127494],\n",
       "       [ 0.04262588, -0.02082784,  0.04170613, -0.03005501, -0.03803331,\n",
       "         0.00820342, -0.04057308,  0.03935296,  0.03599345,  0.01967099],\n",
       "       [-0.01909026,  0.00207409, -0.03300799,  0.01992166,  0.02760427,\n",
       "         0.00209641,  0.02061195,  0.01165963,  0.02707661, -0.00514477]],\n",
       "      dtype=float32)"
      ]
     },
     "execution_count": 42,
     "metadata": {},
     "output_type": "execute_result"
    }
   ],
   "source": [
    "model.predict(embedded_docs)[0]"
   ]
  },
  {
   "cell_type": "code",
   "execution_count": 43,
   "metadata": {},
   "outputs": [
    {
     "data": {
      "text/plain": [
       "(7, 8, 10)"
      ]
     },
     "execution_count": 43,
     "metadata": {},
     "output_type": "execute_result"
    }
   ],
   "source": [
    "model.predict(embedded_docs).shape"
   ]
  },
  {
   "cell_type": "code",
   "execution_count": null,
   "metadata": {},
   "outputs": [],
   "source": []
  }
 ],
 "metadata": {
  "kernelspec": {
   "display_name": "Python 3",
   "language": "python",
   "name": "python3"
  },
  "language_info": {
   "codemirror_mode": {
    "name": "ipython",
    "version": 3
   },
   "file_extension": ".py",
   "mimetype": "text/x-python",
   "name": "python",
   "nbconvert_exporter": "python",
   "pygments_lexer": "ipython3",
   "version": "3.9.12"
  }
 },
 "nbformat": 4,
 "nbformat_minor": 2
}
