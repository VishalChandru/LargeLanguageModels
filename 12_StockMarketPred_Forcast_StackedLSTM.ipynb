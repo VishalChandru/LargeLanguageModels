{
 "cells": [
  {
   "cell_type": "code",
   "execution_count": 35,
   "metadata": {},
   "outputs": [],
   "source": [
    "import pandas_datareader as pdr"
   ]
  },
  {
   "cell_type": "code",
   "execution_count": 36,
   "metadata": {},
   "outputs": [
    {
     "name": "stderr",
     "output_type": "stream",
     "text": [
      "/opt/homebrew/Caskroom/miniforge/base/envs/tensorflow/lib/python3.9/site-packages/pandas_datareader/tiingo.py:234: FutureWarning: In a future version of pandas all arguments of concat except for the argument 'objs' will be keyword-only\n",
      "  return pd.concat(dfs, self._concat_axis)\n"
     ]
    }
   ],
   "source": [
    "df = pdr.get_data_tiingo('AAPL', api_key='516e74d2390f1c16ff7d969a60bd7999d8b81d5e')"
   ]
  },
  {
   "cell_type": "code",
   "execution_count": 37,
   "metadata": {},
   "outputs": [],
   "source": [
    "df.to_csv('data/data_stockpriceforcast_LSTM/AAPL.csv')"
   ]
  },
  {
   "cell_type": "code",
   "execution_count": 38,
   "metadata": {},
   "outputs": [],
   "source": [
    "import pandas as pd"
   ]
  },
  {
   "cell_type": "code",
   "execution_count": 39,
   "metadata": {},
   "outputs": [],
   "source": [
    "df = pd.read_csv('data/data_stockpriceforcast_LSTM/AAPL.csv')"
   ]
  },
  {
   "cell_type": "code",
   "execution_count": 40,
   "metadata": {},
   "outputs": [
    {
     "data": {
      "text/plain": [
       "(1259, 14)"
      ]
     },
     "execution_count": 40,
     "metadata": {},
     "output_type": "execute_result"
    }
   ],
   "source": [
    "df.shape"
   ]
  },
  {
   "cell_type": "code",
   "execution_count": 41,
   "metadata": {},
   "outputs": [
    {
     "data": {
      "text/html": [
       "<div>\n",
       "<style scoped>\n",
       "    .dataframe tbody tr th:only-of-type {\n",
       "        vertical-align: middle;\n",
       "    }\n",
       "\n",
       "    .dataframe tbody tr th {\n",
       "        vertical-align: top;\n",
       "    }\n",
       "\n",
       "    .dataframe thead th {\n",
       "        text-align: right;\n",
       "    }\n",
       "</style>\n",
       "<table border=\"1\" class=\"dataframe\">\n",
       "  <thead>\n",
       "    <tr style=\"text-align: right;\">\n",
       "      <th></th>\n",
       "      <th>symbol</th>\n",
       "      <th>date</th>\n",
       "      <th>close</th>\n",
       "      <th>high</th>\n",
       "      <th>low</th>\n",
       "      <th>open</th>\n",
       "      <th>volume</th>\n",
       "      <th>adjClose</th>\n",
       "      <th>adjHigh</th>\n",
       "      <th>adjLow</th>\n",
       "      <th>adjOpen</th>\n",
       "      <th>adjVolume</th>\n",
       "      <th>divCash</th>\n",
       "      <th>splitFactor</th>\n",
       "    </tr>\n",
       "  </thead>\n",
       "  <tbody>\n",
       "    <tr>\n",
       "      <th>0</th>\n",
       "      <td>AAPL</td>\n",
       "      <td>2018-12-24 00:00:00+00:00</td>\n",
       "      <td>146.83</td>\n",
       "      <td>151.55</td>\n",
       "      <td>146.59</td>\n",
       "      <td>148.15</td>\n",
       "      <td>37169232</td>\n",
       "      <td>35.231152</td>\n",
       "      <td>36.363693</td>\n",
       "      <td>35.173565</td>\n",
       "      <td>35.547879</td>\n",
       "      <td>148676928</td>\n",
       "      <td>0.0</td>\n",
       "      <td>1.0</td>\n",
       "    </tr>\n",
       "    <tr>\n",
       "      <th>1</th>\n",
       "      <td>AAPL</td>\n",
       "      <td>2018-12-26 00:00:00+00:00</td>\n",
       "      <td>157.17</td>\n",
       "      <td>157.23</td>\n",
       "      <td>146.72</td>\n",
       "      <td>148.30</td>\n",
       "      <td>58582544</td>\n",
       "      <td>37.712185</td>\n",
       "      <td>37.726581</td>\n",
       "      <td>35.204758</td>\n",
       "      <td>35.583871</td>\n",
       "      <td>234330176</td>\n",
       "      <td>0.0</td>\n",
       "      <td>1.0</td>\n",
       "    </tr>\n",
       "    <tr>\n",
       "      <th>2</th>\n",
       "      <td>AAPL</td>\n",
       "      <td>2018-12-27 00:00:00+00:00</td>\n",
       "      <td>156.15</td>\n",
       "      <td>156.77</td>\n",
       "      <td>150.07</td>\n",
       "      <td>155.84</td>\n",
       "      <td>53117065</td>\n",
       "      <td>37.467441</td>\n",
       "      <td>37.616207</td>\n",
       "      <td>36.008574</td>\n",
       "      <td>37.393058</td>\n",
       "      <td>212468260</td>\n",
       "      <td>0.0</td>\n",
       "      <td>1.0</td>\n",
       "    </tr>\n",
       "    <tr>\n",
       "      <th>3</th>\n",
       "      <td>AAPL</td>\n",
       "      <td>2018-12-28 00:00:00+00:00</td>\n",
       "      <td>156.23</td>\n",
       "      <td>158.52</td>\n",
       "      <td>154.55</td>\n",
       "      <td>157.50</td>\n",
       "      <td>42291424</td>\n",
       "      <td>37.486636</td>\n",
       "      <td>38.036111</td>\n",
       "      <td>37.083528</td>\n",
       "      <td>37.791367</td>\n",
       "      <td>169165696</td>\n",
       "      <td>0.0</td>\n",
       "      <td>1.0</td>\n",
       "    </tr>\n",
       "    <tr>\n",
       "      <th>4</th>\n",
       "      <td>AAPL</td>\n",
       "      <td>2018-12-31 00:00:00+00:00</td>\n",
       "      <td>157.74</td>\n",
       "      <td>159.36</td>\n",
       "      <td>156.48</td>\n",
       "      <td>158.53</td>\n",
       "      <td>35003466</td>\n",
       "      <td>37.848954</td>\n",
       "      <td>38.237665</td>\n",
       "      <td>37.546623</td>\n",
       "      <td>38.038510</td>\n",
       "      <td>140013864</td>\n",
       "      <td>0.0</td>\n",
       "      <td>1.0</td>\n",
       "    </tr>\n",
       "  </tbody>\n",
       "</table>\n",
       "</div>"
      ],
      "text/plain": [
       "  symbol                       date   close    high     low    open    volume  \\\n",
       "0   AAPL  2018-12-24 00:00:00+00:00  146.83  151.55  146.59  148.15  37169232   \n",
       "1   AAPL  2018-12-26 00:00:00+00:00  157.17  157.23  146.72  148.30  58582544   \n",
       "2   AAPL  2018-12-27 00:00:00+00:00  156.15  156.77  150.07  155.84  53117065   \n",
       "3   AAPL  2018-12-28 00:00:00+00:00  156.23  158.52  154.55  157.50  42291424   \n",
       "4   AAPL  2018-12-31 00:00:00+00:00  157.74  159.36  156.48  158.53  35003466   \n",
       "\n",
       "    adjClose    adjHigh     adjLow    adjOpen  adjVolume  divCash  splitFactor  \n",
       "0  35.231152  36.363693  35.173565  35.547879  148676928      0.0          1.0  \n",
       "1  37.712185  37.726581  35.204758  35.583871  234330176      0.0          1.0  \n",
       "2  37.467441  37.616207  36.008574  37.393058  212468260      0.0          1.0  \n",
       "3  37.486636  38.036111  37.083528  37.791367  169165696      0.0          1.0  \n",
       "4  37.848954  38.237665  37.546623  38.038510  140013864      0.0          1.0  "
      ]
     },
     "execution_count": 41,
     "metadata": {},
     "output_type": "execute_result"
    }
   ],
   "source": [
    "df.head()"
   ]
  },
  {
   "cell_type": "code",
   "execution_count": 42,
   "metadata": {},
   "outputs": [],
   "source": [
    "df1 = df.reset_index()['close']"
   ]
  },
  {
   "cell_type": "code",
   "execution_count": 43,
   "metadata": {},
   "outputs": [
    {
     "data": {
      "text/plain": [
       "(1259,)"
      ]
     },
     "execution_count": 43,
     "metadata": {},
     "output_type": "execute_result"
    }
   ],
   "source": [
    "df1.shape"
   ]
  },
  {
   "cell_type": "code",
   "execution_count": 44,
   "metadata": {},
   "outputs": [
    {
     "data": {
      "text/plain": [
       "[<matplotlib.lines.Line2D at 0x16cdf8e20>]"
      ]
     },
     "execution_count": 44,
     "metadata": {},
     "output_type": "execute_result"
    },
    {
     "data": {
      "image/png": "[encoded data removed]",
      "text/plain": [
       "<Figure size 432x288 with 1 Axes>"
      ]
     },
     "metadata": {
      "needs_background": "light"
     },
     "output_type": "display_data"
    }
   ],
   "source": [
    "import matplotlib.pyplot as plt\n",
    "plt.plot(df1)"
   ]
  },
  {
   "cell_type": "code",
   "execution_count": 45,
   "metadata": {},
   "outputs": [
    {
     "data": {
      "text/plain": [
       "0       146.83\n",
       "1       157.17\n",
       "2       156.15\n",
       "3       156.23\n",
       "4       157.74\n",
       "         ...  \n",
       "1254    195.89\n",
       "1255    196.94\n",
       "1256    194.83\n",
       "1257    194.68\n",
       "1258    193.60\n",
       "Name: close, Length: 1259, dtype: float64"
      ]
     },
     "execution_count": 45,
     "metadata": {},
     "output_type": "execute_result"
    }
   ],
   "source": [
    "df1"
   ]
  },
  {
   "cell_type": "code",
   "execution_count": 46,
   "metadata": {},
   "outputs": [],
   "source": [
    "import numpy as np"
   ]
  },
  {
   "cell_type": "code",
   "execution_count": 47,
   "metadata": {},
   "outputs": [],
   "source": [
    "## LSTM is sensitive to scale of the data. So always scale the data\n",
    "from sklearn.preprocessing import MinMaxScaler\n",
    "scaler = MinMaxScaler(feature_range=(0,1))\n",
    "df1 = scaler.fit_transform(np.array(df1).reshape(-1,1))"
   ]
  },
  {
   "cell_type": "code",
   "execution_count": 48,
   "metadata": {},
   "outputs": [
    {
     "data": {
      "text/plain": [
       "(1259, 1)"
      ]
     },
     "execution_count": 48,
     "metadata": {},
     "output_type": "execute_result"
    }
   ],
   "source": [
    "df1.shape"
   ]
  },
  {
   "cell_type": "code",
   "execution_count": 49,
   "metadata": {},
   "outputs": [
    {
     "name": "stdout",
     "output_type": "stream",
     "text": [
      "[[0.10016281]\n",
      " [0.12606137]\n",
      " [0.12350657]\n",
      " ...\n",
      " [0.22038823]\n",
      " [0.22001252]\n",
      " [0.21730745]]\n"
     ]
    }
   ],
   "source": [
    "print(df1)"
   ]
  },
  {
   "cell_type": "code",
   "execution_count": 50,
   "metadata": {},
   "outputs": [],
   "source": [
    "## split train and test data\n",
    "train_size = int(len(df1) * 0.65)\n",
    "test_size = len(df1) - train_size\n",
    "\n",
    "train_data, test_data = df1[0:train_size,:], df1[train_size:len(df1),:1]"
   ]
  },
  {
   "cell_type": "code",
   "execution_count": 51,
   "metadata": {},
   "outputs": [
    {
     "data": {
      "text/plain": [
       "(818, 441)"
      ]
     },
     "execution_count": 51,
     "metadata": {},
     "output_type": "execute_result"
    }
   ],
   "source": [
    "train_size , test_size"
   ]
  },
  {
   "cell_type": "code",
   "execution_count": 52,
   "metadata": {},
   "outputs": [
    {
     "data": {
      "text/plain": [
       "(818, 441)"
      ]
     },
     "execution_count": 52,
     "metadata": {},
     "output_type": "execute_result"
    }
   ],
   "source": [
    "len(train_data), len(test_data)"
   ]
  },
  {
   "cell_type": "code",
   "execution_count": 53,
   "metadata": {},
   "outputs": [],
   "source": [
    "import numpy as np\n",
    "#convert an array of data to dataset matrix\n",
    "def create_dataset(dataset, time_step=1):\n",
    "    dataX,dataY = [], []\n",
    "    for i in range(len(dataset)-time_step-1):\n",
    "        a = dataset[i:(i+time_step), 0]\n",
    "        dataX.append(a)\n",
    "        dataY.append(dataset[i+time_step, 0])\n",
    "    return np.array(dataX), np.array(dataY)"
   ]
  },
  {
   "cell_type": "code",
   "execution_count": 54,
   "metadata": {},
   "outputs": [],
   "source": [
    "# reshape into X = t,t+1,t+2,t+3 and Y = t+4\n",
    "time_step = 100\n",
    "X_train,y_train = create_dataset(train_data,time_step)\n",
    "X_test,y_test = create_dataset(test_data,time_step)"
   ]
  },
  {
   "cell_type": "code",
   "execution_count": 55,
   "metadata": {},
   "outputs": [
    {
     "name": "stdout",
     "output_type": "stream",
     "text": [
      "[[0.10016281 0.12606137 0.12350657 ... 0.21059487 0.20849092 0.20578585]\n",
      " [0.12606137 0.12350657 0.12370695 ... 0.20849092 0.20578585 0.19098309]\n",
      " [0.12350657 0.12370695 0.12748904 ... 0.20578585 0.19098309 0.19977458]\n",
      " ...\n",
      " [0.10469631 0.1063995  0.10522229 ... 0.1208516  0.13212273 0.13470257]\n",
      " [0.1063995  0.10522229 0.11453976 ... 0.13212273 0.13470257 0.14311835]\n",
      " [0.10522229 0.11453976 0.10760175 ... 0.13470257 0.14311835 0.14662492]]\n"
     ]
    }
   ],
   "source": [
    "print(X_train)"
   ]
  },
  {
   "cell_type": "code",
   "execution_count": 56,
   "metadata": {},
   "outputs": [
    {
     "data": {
      "text/plain": [
       "((717, 100), (717,))"
      ]
     },
     "execution_count": 56,
     "metadata": {},
     "output_type": "execute_result"
    }
   ],
   "source": [
    "X_train.shape, y_train.shape"
   ]
  },
  {
   "cell_type": "code",
   "execution_count": 57,
   "metadata": {},
   "outputs": [
    {
     "data": {
      "text/plain": [
       "((340, 100), (340,))"
      ]
     },
     "execution_count": 57,
     "metadata": {},
     "output_type": "execute_result"
    }
   ],
   "source": [
    "X_test.shape, y_test.shape"
   ]
  },
  {
   "cell_type": "code",
   "execution_count": 58,
   "metadata": {},
   "outputs": [
    {
     "data": {
      "text/plain": [
       "((717, 100, 1), (340, 100, 1))"
      ]
     },
     "execution_count": 58,
     "metadata": {},
     "output_type": "execute_result"
    }
   ],
   "source": [
    "# reshape input to be [samples,time steps, features] which is required for LSTM\n",
    "X_train = X_train.reshape(X_train.shape[0],X_train.shape[1],1)\n",
    "X_test = X_test.reshape(X_test.shape[0],X_test.shape[1],1)\n",
    "X_train.shape, X_test.shape"
   ]
  },
  {
   "cell_type": "code",
   "execution_count": 31,
   "metadata": {},
   "outputs": [],
   "source": [
    "#Create a LSTM model\n",
    "from tensorflow.keras.models import Sequential\n",
    "from tensorflow.keras.layers import Dense\n",
    "from tensorflow.keras.layers import LSTM"
   ]
  },
  {
   "cell_type": "code",
   "execution_count": 33,
   "metadata": {},
   "outputs": [],
   "source": [
    "model = Sequential()\n",
    "model.add(LSTM(50, return_sequences=True, input_shape = (100,1)))\n",
    "model.add(LSTM(50, return_sequences=True))\n",
    "model.add(LSTM(50))\n",
    "model.add(Dense(1))\n",
    "model.compile(loss = 'mean_square_error', optimizer = 'adam')"
   ]
  },
  {
   "cell_type": "code",
   "execution_count": null,
   "metadata": {},
   "outputs": [],
   "source": [
    "model.summary()"
   ]
  },
  {
   "cell_type": "code",
   "execution_count": null,
   "metadata": {},
   "outputs": [],
   "source": [
    "model.fit(X_train,y_train,validation_data=(X_test,y_test),epochs = 100, batch_size=64, verbose = 1)"
   ]
  },
  {
   "cell_type": "code",
   "execution_count": null,
   "metadata": {},
   "outputs": [],
   "source": [
    "import tensorflow as tf"
   ]
  },
  {
   "cell_type": "code",
   "execution_count": 34,
   "metadata": {},
   "outputs": [],
   "source": [
    "tf.__version__"
   ]
  },
  {
   "cell_type": "code",
   "execution_count": null,
   "metadata": {},
   "outputs": [],
   "source": [
    "## prediction and check performance metrics\n",
    "train_predict = model.predict(X_train)\n",
    "test_predict = model.predict(X_test)"
   ]
  },
  {
   "cell_type": "code",
   "execution_count": null,
   "metadata": {},
   "outputs": [],
   "source": [
    "train_predict = scaler.inverse_transform(train_predict)\n",
    "test_predict = scaler.inverse_transform(test_predict)"
   ]
  },
  {
   "cell_type": "code",
   "execution_count": null,
   "metadata": {},
   "outputs": [],
   "source": [
    "## Calculate RMSE performace matrics\n",
    "import math\n",
    "from sklearn.metrics import mean_squared_error\n",
    "math.sqrt(mean_squared_error(y_train,train_predict))"
   ]
  },
  {
   "cell_type": "code",
   "execution_count": null,
   "metadata": {},
   "outputs": [],
   "source": [
    "## Test Data RMSE\n",
    "math.sqrt(mean_squared_error(y_test,test_predict))"
   ]
  },
  {
   "cell_type": "code",
   "execution_count": null,
   "metadata": {},
   "outputs": [],
   "source": [
    "## Plotting\n",
    "look_back = 100\n",
    "# shift train predictions for plotting\n",
    "trainPredictPlot = np.empty_like(df1)\n",
    "trainPredictPlot[:,:] = np.nan\n",
    "trainPredictPlot[look_back:len(train_predict)+look_back, :] = train_predict\n",
    "\n",
    "# shift test predictions for plotting\n",
    "testPredictPlot = np.empty_like(df1)\n",
    "testPredictPlot[:,:] = np.nan\n",
    "testPredictPlot[len(train_predict)+(look_back*2)+1: len(df1)-1, :] = test_predict\n",
    "\n",
    "#plot baseline and predictions\n",
    "plt.plot(scaler.inverse_transform(df1))\n",
    "plt.plot(trainPredictPlot)\n",
    "plt.plot(testPredictPlot)\n",
    "plt.show()"
   ]
  },
  {
   "cell_type": "code",
   "execution_count": 60,
   "metadata": {},
   "outputs": [
    {
     "data": {
      "text/plain": [
       "441"
      ]
     },
     "execution_count": 60,
     "metadata": {},
     "output_type": "execute_result"
    }
   ],
   "source": [
    "len(test_data)"
   ]
  },
  {
   "cell_type": "code",
   "execution_count": 62,
   "metadata": {},
   "outputs": [
    {
     "data": {
      "text/plain": [
       "(1, 100)"
      ]
     },
     "execution_count": 62,
     "metadata": {},
     "output_type": "execute_result"
    }
   ],
   "source": [
    "x_input = test_data[341:].reshape(1,-1)\n",
    "x_input.shape"
   ]
  },
  {
   "cell_type": "code",
   "execution_count": 69,
   "metadata": {},
   "outputs": [
    {
     "name": "stdout",
     "output_type": "stream",
     "text": [
      "[0.21122103944896675, 0.1882279273638071, 0.18036318096430803, 0.18274264245460237, 0.1787100814026299, 0.17815904821540385, 0.17770820288040068, 0.18189104571070758, 0.1768566061365059, 0.1746524733876017, 0.16821540388227924, 0.16944270507200998, 0.17282404508453347, 0.17630557294927984, 0.18604884157795865, 0.17417658108954281, 0.17976205385097055, 0.18371947401377575, 0.1935629304946775, 0.20240450845335, 0.20295554164057605, 0.20693800876643703, 0.20753913587977452, 0.19053224796493418, 0.1771321227301189, 0.17868503443957418, 0.18164057608015027, 0.17397620538509706, 0.16874139010644956, 0.17257357545397617, 0.17074514715090788, 0.17815904821540385, 0.18091421415153408, 0.17194740137758296, 0.16804007514088914, 0.17019411396368184, 0.173425172197871, 0.16310582341891044, 0.15927363807138384, 0.15992485911083276, 0.16122730118973072, 0.16758922980588598, 0.16420788979336254, 0.1673638071383844, 0.17049467752035058, 0.17695679398872882, 0.18071383844708827, 0.17921102066374445, 0.18274264245460237, 0.1850219160926737, 0.18036318096430803, 0.18003757044458357, 0.17610519724483403, 0.17282404508453347, 0.17187226048841575, 0.1654101440200375, 0.1657107075767063, 0.1668127739511584, 0.16095178459611764, 0.15040701314965554, 0.1537382592360676, 0.15892298058860355, 0.16012523481527863, 0.16814026299311202, 0.17715716969317463, 0.17485284909204757, 0.1813149655604257, 0.18780212899185966, 0.19048215403882274, 0.1892798998121477, 0.19927363807138382, 0.19526612398246712, 0.20187852222917968, 0.20330619912335623, 0.2075641828428303, 0.2075140889167188, 0.21192235441452717, 0.20989355040701307, 0.211571696931747, 0.20821540388227922, 0.2077645585472761, 0.2092924232936756, 0.20671258609893545, 0.20816530995616772, 0.2113963681903569, 0.20686286787726987, 0.21685660613650587, 0.21410144020037564, 0.21898559799624295, 0.22259236067626798, 0.21625547902316838, 0.22008766437069505, 0.2282279273638071, 0.22860363180964305, 0.2272510958046336, 0.22304320601127103, 0.22567313713212267, 0.2203882279273638, 0.22001252348152783, 0.21730745147150904]\n"
     ]
    }
   ],
   "source": [
    "temp_input = list(x_input)\n",
    "temp_input = temp_input[0].tolist()\n",
    "print(temp_input)"
   ]
  },
  {
   "cell_type": "code",
   "execution_count": null,
   "metadata": {},
   "outputs": [],
   "source": [
    "# demonstrate prediction for next 30 days\n",
    "\n",
    "list_output = []\n",
    "n_steps = 100\n",
    "i = 0\n",
    "\n",
    "while(i<30):\n",
    "\n",
    "    if(len(temp_input)>100):\n",
    "        #print(temp_input)\n",
    "        x_input = np.array(temp_input[1:])\n",
    "        print(\"{} day input {}\".format(i,x_input))\n",
    "        x_input = x_input.reshape(1,-1)\n",
    "        x_input = x_input.reshape((1, n_steps, 1))\n",
    "        #print(x_input)\n",
    "        y_hat = model.predict(x_input, verbose=0)\n",
    "        print(\"{} day output {}\".format(i,y_hat))\n",
    "        temp_input.extend(y_hat[0].tolist())\n",
    "        temp_input = temp_input[1:]\n",
    "        #print(temp_input)\n",
    "        list_output.extend(y_hat.tolist())\n",
    "        i = i+1\n",
    "    else:\n",
    "        x_input = x_input.reshape((1, n_steps, 1))\n",
    "        y_hat = model.predict(x_input,verbose=0)\n",
    "        print(y_hat[0])\n",
    "        temp_input.extend(y_hat[0].tolist())\n",
    "        print(len(temp_input))\n",
    "        list_output.extend(y_hat.tolist())\n",
    "        i = i+1\n",
    "\n",
    "print(list_output)"
   ]
  },
  {
   "cell_type": "code",
   "execution_count": null,
   "metadata": {},
   "outputs": [],
   "source": [
    "day_new = np.arange(1,101)\n",
    "day_pred = np.aranae(101,131)"
   ]
  },
  {
   "cell_type": "code",
   "execution_count": null,
   "metadata": {},
   "outputs": [],
   "source": [
    "import matplotlib.pyplot as plt"
   ]
  },
  {
   "cell_type": "code",
   "execution_count": null,
   "metadata": {},
   "outputs": [],
   "source": [
    "len(df1)"
   ]
  },
  {
   "cell_type": "code",
   "execution_count": null,
   "metadata": {},
   "outputs": [],
   "source": [
    "df3 = df1.tolist()\n",
    "df3.extend(list_output)"
   ]
  },
  {
   "cell_type": "code",
   "execution_count": null,
   "metadata": {},
   "outputs": [],
   "source": [
    "plt.olot(day_new,scaler.inverse_transform(df1[1159:]))\n",
    "plt.plot(day_pred,scaler.inverse_transform(list_output))"
   ]
  },
  {
   "cell_type": "code",
   "execution_count": null,
   "metadata": {},
   "outputs": [],
   "source": [
    "df3 = df1.tolist()\n",
    "df3.extend(list_output)\n",
    "plt.plot(df3[1200:])"
   ]
  },
  {
   "cell_type": "code",
   "execution_count": null,
   "metadata": {},
   "outputs": [],
   "source": []
  }
 ],
 "metadata": {
  "kernelspec": {
   "display_name": "tensorflow",
   "language": "python",
   "name": "python3"
  },
  "language_info": {
   "codemirror_mode": {
    "name": "ipython",
    "version": 3
   },
   "file_extension": ".py",
   "mimetype": "text/x-python",
   "name": "python",
   "nbconvert_exporter": "python",
   "pygments_lexer": "ipython3",
   "version": "3.9.12"
  }
 },
 "nbformat": 4,
 "nbformat_minor": 2
}
